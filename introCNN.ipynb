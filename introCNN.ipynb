{
  "nbformat": 4,
  "nbformat_minor": 0,
  "metadata": {
    "colab": {
      "provenance": [],
      "gpuType": "T4",
      "authorship_tag": "ABX9TyN1V1QiFoS093D0+9EZZ4rK",
      "include_colab_link": true
    },
    "kernelspec": {
      "name": "python3",
      "display_name": "Python 3"
    },
    "language_info": {
      "name": "python"
    },
    "accelerator": "GPU"
  },
  "cells": [
    {
      "cell_type": "markdown",
      "metadata": {
        "id": "view-in-github",
        "colab_type": "text"
      },
      "source": [
        "<a href=\"https://colab.research.google.com/github/Tunok24/introCNN/blob/main/introCNN.ipynb\" target=\"_parent\"><img src=\"https://colab.research.google.com/assets/colab-badge.svg\" alt=\"Open In Colab\"/></a>"
      ]
    },
    {
      "cell_type": "code",
      "execution_count": 1,
      "metadata": {
        "id": "EwIV4UHqVi4T"
      },
      "outputs": [],
      "source": [
        "import torch\n",
        "import torch.nn as nn\n",
        "import torch.nn.functional as F\n",
        "from torch.utils.data import DataLoader\n",
        "from torchvision import datasets, transforms\n",
        "from torchvision.utils import make_grid\n",
        "\n",
        "import numpy as np\n",
        "import pandas as pd\n",
        "from sklearn.metrics import confusion_matrix\n",
        "import matplotlib.pyplot as plt\n",
        "%matplotlib inline\n",
        "\n",
        "import time"
      ]
    },
    {
      "cell_type": "code",
      "source": [
        "# Convert MNIST Image Files to 4D tensors\n",
        "transform = transforms.ToTensor()\n",
        "\n",
        "# Train Data\n",
        "train_data = datasets.MNIST(root='mnistData', train=True, download=True, transform = transform)\n",
        "test_data = datasets.MNIST(root='mnistData', train=False, download=True, transform = transform)"
      ],
      "metadata": {
        "id": "8hImQfi9X7p2",
        "colab": {
          "base_uri": "https://localhost:8080/"
        },
        "outputId": "cefa971d-cb98-4a94-9cd9-6c387fda3958"
      },
      "execution_count": 2,
      "outputs": [
        {
          "output_type": "stream",
          "name": "stdout",
          "text": [
            "Downloading http://yann.lecun.com/exdb/mnist/train-images-idx3-ubyte.gz\n",
            "Failed to download (trying next):\n",
            "<urlopen error [SSL: CERTIFICATE_VERIFY_FAILED] certificate verify failed: certificate has expired (_ssl.c:1007)>\n",
            "\n",
            "Downloading https://ossci-datasets.s3.amazonaws.com/mnist/train-images-idx3-ubyte.gz\n",
            "Downloading https://ossci-datasets.s3.amazonaws.com/mnist/train-images-idx3-ubyte.gz to mnistData/MNIST/raw/train-images-idx3-ubyte.gz\n"
          ]
        },
        {
          "output_type": "stream",
          "name": "stderr",
          "text": [
            "100%|██████████| 9912422/9912422 [00:00<00:00, 55671963.83it/s]\n"
          ]
        },
        {
          "output_type": "stream",
          "name": "stdout",
          "text": [
            "Extracting mnistData/MNIST/raw/train-images-idx3-ubyte.gz to mnistData/MNIST/raw\n",
            "\n",
            "Downloading http://yann.lecun.com/exdb/mnist/train-labels-idx1-ubyte.gz\n",
            "Failed to download (trying next):\n",
            "<urlopen error [SSL: CERTIFICATE_VERIFY_FAILED] certificate verify failed: certificate has expired (_ssl.c:1007)>\n",
            "\n",
            "Downloading https://ossci-datasets.s3.amazonaws.com/mnist/train-labels-idx1-ubyte.gz\n",
            "Downloading https://ossci-datasets.s3.amazonaws.com/mnist/train-labels-idx1-ubyte.gz to mnistData/MNIST/raw/train-labels-idx1-ubyte.gz\n"
          ]
        },
        {
          "output_type": "stream",
          "name": "stderr",
          "text": [
            "100%|██████████| 28881/28881 [00:00<00:00, 1794602.87it/s]"
          ]
        },
        {
          "output_type": "stream",
          "name": "stdout",
          "text": [
            "Extracting mnistData/MNIST/raw/train-labels-idx1-ubyte.gz to mnistData/MNIST/raw\n",
            "\n",
            "Downloading http://yann.lecun.com/exdb/mnist/t10k-images-idx3-ubyte.gz\n"
          ]
        },
        {
          "output_type": "stream",
          "name": "stderr",
          "text": [
            "\n"
          ]
        },
        {
          "output_type": "stream",
          "name": "stdout",
          "text": [
            "Failed to download (trying next):\n",
            "<urlopen error [SSL: CERTIFICATE_VERIFY_FAILED] certificate verify failed: certificate has expired (_ssl.c:1007)>\n",
            "\n",
            "Downloading https://ossci-datasets.s3.amazonaws.com/mnist/t10k-images-idx3-ubyte.gz\n",
            "Downloading https://ossci-datasets.s3.amazonaws.com/mnist/t10k-images-idx3-ubyte.gz to mnistData/MNIST/raw/t10k-images-idx3-ubyte.gz\n"
          ]
        },
        {
          "output_type": "stream",
          "name": "stderr",
          "text": [
            "100%|██████████| 1648877/1648877 [00:00<00:00, 14783073.58it/s]\n"
          ]
        },
        {
          "output_type": "stream",
          "name": "stdout",
          "text": [
            "Extracting mnistData/MNIST/raw/t10k-images-idx3-ubyte.gz to mnistData/MNIST/raw\n",
            "\n",
            "Downloading http://yann.lecun.com/exdb/mnist/t10k-labels-idx1-ubyte.gz\n",
            "Failed to download (trying next):\n",
            "<urlopen error [SSL: CERTIFICATE_VERIFY_FAILED] certificate verify failed: certificate has expired (_ssl.c:1007)>\n",
            "\n",
            "Downloading https://ossci-datasets.s3.amazonaws.com/mnist/t10k-labels-idx1-ubyte.gz\n",
            "Downloading https://ossci-datasets.s3.amazonaws.com/mnist/t10k-labels-idx1-ubyte.gz to mnistData/MNIST/raw/t10k-labels-idx1-ubyte.gz\n"
          ]
        },
        {
          "output_type": "stream",
          "name": "stderr",
          "text": [
            "100%|██████████| 4542/4542 [00:00<00:00, 7977608.36it/s]"
          ]
        },
        {
          "output_type": "stream",
          "name": "stdout",
          "text": [
            "Extracting mnistData/MNIST/raw/t10k-labels-idx1-ubyte.gz to mnistData/MNIST/raw\n",
            "\n"
          ]
        },
        {
          "output_type": "stream",
          "name": "stderr",
          "text": [
            "\n"
          ]
        }
      ]
    },
    {
      "cell_type": "code",
      "source": [
        "train_data\n",
        "test_data\n",
        "\n",
        "train_loader = DataLoader(train_data, batch_size=10, shuffle=True)\n",
        "test_loader = DataLoader(test_data, batch_size=10, shuffle=False)"
      ],
      "metadata": {
        "id": "SsxiReYyagqo"
      },
      "execution_count": 3,
      "outputs": []
    },
    {
      "cell_type": "code",
      "source": [
        "# Define CNN. Build Convolution layers.\n",
        "conv1 = nn.Conv2d(1, 6, 3, 1)\n",
        "conv2 = nn.Conv2d(6, 16, 3, 1)\n",
        "conv3 = nn.Conv2d(16, 80, 3, 1)"
      ],
      "metadata": {
        "id": "ybUH5hphangJ"
      },
      "execution_count": 4,
      "outputs": []
    },
    {
      "cell_type": "code",
      "source": [
        "# Grab one mnist image\n",
        "for i, (X_train, y_train) in enumerate(train_data):\n",
        "  break\n",
        "\n",
        "# Convert to 4D tensor\n",
        "x = X_train.view(1,1,28,28)\n",
        "\n",
        "# Perform first convolution\n",
        "x = F.relu(conv1(x))\n",
        "x.shape\n",
        "\n",
        "# Pooling layer\n",
        "x = F.max_pool2d(x, 2, 2)\n",
        "x.shape\n",
        "\n",
        "# Perform second convolution\n",
        "x = F.relu(conv2(x))\n",
        "x.shape\n",
        "\n",
        "# Perform third convolution\n",
        "x = F.relu(conv3(x))\n",
        "x.shape\n",
        "\n",
        "# Perform second pooling\n",
        "x = F.max_pool2d(x, 2, 2)\n",
        "x.shape"
      ],
      "metadata": {
        "colab": {
          "base_uri": "https://localhost:8080/"
        },
        "id": "1XYdoSH3c5N_",
        "outputId": "7a435bed-c35b-4ced-8d84-628a19c10221"
      },
      "execution_count": 5,
      "outputs": [
        {
          "output_type": "execute_result",
          "data": {
            "text/plain": [
              "torch.Size([1, 80, 4, 4])"
            ]
          },
          "metadata": {},
          "execution_count": 5
        }
      ]
    },
    {
      "cell_type": "code",
      "source": [
        "# Define Model class for our NN\n",
        "class CNNmodel(nn.Module):\n",
        "  def __init__(self):\n",
        "    super().__init__()\n",
        "    self.conv1 = nn.Conv2d(1, 6, 3, 1)\n",
        "    self.conv2 = nn.Conv2d(6, 16, 3, 1)\n",
        "    self.conv3 = nn.Conv2d(16, 80, 3, 1)\n",
        "\n",
        "    # Fully connected layers\n",
        "    self.fc1 = nn.Linear(4*4*80, 120)\n",
        "    self.fc2 = nn.Linear(120, 84)\n",
        "    self.fc3 = nn.Linear(84, 10)\n",
        "\n",
        "  # Forward function\n",
        "  def forward(self, X):\n",
        "    X = F.relu(self.conv1(X))\n",
        "    X = F.max_pool2d(X, 2, 2)\n",
        "    X = F.relu(self.conv2(X))\n",
        "    X = F.relu(self.conv3(X))\n",
        "    X = F.max_pool2d(X, 2, 2)\n",
        "\n",
        "    # Flatten\n",
        "    X = X.view(-1, 4*4*80)\n",
        "\n",
        "    # Fully connected layers\n",
        "    X = F.relu(self.fc1(X))\n",
        "    X = F.relu(self.fc2(X))\n",
        "    X = self.fc3(X)\n",
        "\n",
        "    return F.log_softmax(X, dim=1)\n",
        "\n"
      ],
      "metadata": {
        "id": "UArFvoZGo9fe"
      },
      "execution_count": 6,
      "outputs": []
    },
    {
      "cell_type": "code",
      "source": [
        "# Create an instance\n",
        "torch.manual_seed(41)\n",
        "model = CNNmodel()\n",
        "model\n",
        "\n",
        "# Loss Function Optimizer\n",
        "criterion = nn.CrossEntropyLoss()\n",
        "optimizer = torch.optim.Adam(model.parameters(), lr=0.005)"
      ],
      "metadata": {
        "id": "wvvHQq9kzdaw"
      },
      "execution_count": 7,
      "outputs": []
    },
    {
      "cell_type": "code",
      "source": [
        "# Time\n",
        "start_time = time.time()\n",
        "\n",
        "# Create variables to track things\n",
        "epochs = 5\n",
        "train_losses = []\n",
        "test_losses = []\n",
        "train_correct = []\n",
        "test_correct = []\n",
        "\n",
        "# Loop thru epochs\n",
        "for i in range(epochs):\n",
        "  trn_corr = 0\n",
        "  tst_corr = 0\n",
        "\n",
        "\n",
        "  # Train\n",
        "  for b,(X_train, y_train) in enumerate(train_loader):\n",
        "    b += 1\n",
        "\n",
        "    y_pred = model(X_train)\n",
        "    loss = criterion(y_pred, y_train)\n",
        "    predicted = torch.max(y_pred.data, 1)[1]\n",
        "    batch_corr = (predicted == y_train).sum()\n",
        "    trn_corr += batch_corr\n",
        "\n",
        "\n",
        "    # Update parameters\n",
        "    optimizer.zero_grad()\n",
        "    loss.backward()\n",
        "    optimizer.step()\n",
        "\n",
        "    # Print some results\n",
        "    if b%600 == 0:\n",
        "      print(f'Epoch: {i}, Batch: {b}, Loss: {loss.item()}')\n",
        "\n",
        "  # Append losses\n",
        "  train_losses.append(loss)\n",
        "  train_correct.append(trn_corr)\n",
        "\n",
        "  # Test\n",
        "  with torch.no_grad():\n",
        "    for b, (X_test, y_test) in enumerate(test_loader):\n",
        "      y_val = model(X_test)\n",
        "      predicted = torch.max(y_val.data, 1)[1]\n",
        "      tst_corr += (predicted == y_test).sum()\n",
        "\n",
        "  loss = criterion(y_val, y_test)\n",
        "  test_losses.append(loss)\n",
        "  test_correct.append(tst_corr)\n",
        "\n",
        "\n",
        "\n",
        "current_time = time.time()\n",
        "elapsed_time = current_time - start_time\n",
        "print(f'Training took {elapsed_time/60} minutes!')"
      ],
      "metadata": {
        "id": "bZ86Cx9VzqPH",
        "colab": {
          "base_uri": "https://localhost:8080/"
        },
        "outputId": "01c9d53f-e7e9-4643-ead4-3ebebc7be08e"
      },
      "execution_count": 11,
      "outputs": [
        {
          "output_type": "stream",
          "name": "stdout",
          "text": [
            "Epoch: 0, Batch: 600, Loss: 0.04888717830181122\n",
            "Epoch: 0, Batch: 1200, Loss: 0.43228888511657715\n",
            "Epoch: 0, Batch: 1800, Loss: 0.0005490210605785251\n",
            "Epoch: 0, Batch: 2400, Loss: 0.3083384931087494\n",
            "Epoch: 0, Batch: 3000, Loss: 0.27115771174430847\n",
            "Epoch: 0, Batch: 3600, Loss: 0.17159420251846313\n",
            "Epoch: 0, Batch: 4200, Loss: 0.0009632888250052929\n",
            "Epoch: 0, Batch: 4800, Loss: 0.0985824316740036\n",
            "Epoch: 0, Batch: 5400, Loss: 0.07105783373117447\n",
            "Epoch: 0, Batch: 6000, Loss: 0.5724804997444153\n",
            "Epoch: 1, Batch: 600, Loss: 0.0008232739055529237\n",
            "Epoch: 1, Batch: 1200, Loss: 0.00027172642876394093\n",
            "Epoch: 1, Batch: 1800, Loss: 0.0009893913520500064\n",
            "Epoch: 1, Batch: 2400, Loss: 0.45737800002098083\n",
            "Epoch: 1, Batch: 3000, Loss: 0.000839118380099535\n",
            "Epoch: 1, Batch: 3600, Loss: 0.07504609227180481\n",
            "Epoch: 1, Batch: 4200, Loss: 0.002375237178057432\n",
            "Epoch: 1, Batch: 4800, Loss: 0.002414323855191469\n",
            "Epoch: 1, Batch: 5400, Loss: 0.06831320375204086\n",
            "Epoch: 1, Batch: 6000, Loss: 0.0006870735669508576\n",
            "Epoch: 2, Batch: 600, Loss: 0.0002117139083566144\n",
            "Epoch: 2, Batch: 1200, Loss: 0.0003461653832346201\n",
            "Epoch: 2, Batch: 1800, Loss: 0.18815192580223083\n",
            "Epoch: 2, Batch: 2400, Loss: 0.12329466640949249\n",
            "Epoch: 2, Batch: 3000, Loss: 0.28389254212379456\n",
            "Epoch: 2, Batch: 3600, Loss: 1.3164929151535034\n",
            "Epoch: 2, Batch: 4200, Loss: 0.09988366067409515\n",
            "Epoch: 2, Batch: 4800, Loss: 0.3316687345504761\n",
            "Epoch: 2, Batch: 5400, Loss: 0.009354446083307266\n",
            "Epoch: 2, Batch: 6000, Loss: 0.0014552391367033124\n",
            "Epoch: 3, Batch: 600, Loss: 8.197323768399656e-05\n",
            "Epoch: 3, Batch: 1200, Loss: 0.1973714828491211\n",
            "Epoch: 3, Batch: 1800, Loss: 0.0030151340179145336\n",
            "Epoch: 3, Batch: 2400, Loss: 0.0020147731993347406\n",
            "Epoch: 3, Batch: 3000, Loss: 0.1137680783867836\n",
            "Epoch: 3, Batch: 3600, Loss: 0.00024696189211681485\n",
            "Epoch: 3, Batch: 4200, Loss: 0.009355733171105385\n",
            "Epoch: 3, Batch: 4800, Loss: 0.11478102207183838\n",
            "Epoch: 3, Batch: 5400, Loss: 0.00856788270175457\n",
            "Epoch: 3, Batch: 6000, Loss: 0.00041987496661022305\n",
            "Epoch: 4, Batch: 600, Loss: 0.8591292500495911\n",
            "Epoch: 4, Batch: 1200, Loss: 0.08482655882835388\n",
            "Epoch: 4, Batch: 1800, Loss: 0.004773769993335009\n",
            "Epoch: 4, Batch: 2400, Loss: 0.103589728474617\n",
            "Epoch: 4, Batch: 3000, Loss: 0.01766604743897915\n",
            "Epoch: 4, Batch: 3600, Loss: 3.933871994377114e-06\n",
            "Epoch: 4, Batch: 4200, Loss: 0.017084848135709763\n",
            "Epoch: 4, Batch: 4800, Loss: 0.002305261790752411\n",
            "Epoch: 4, Batch: 5400, Loss: 0.4867878556251526\n",
            "Epoch: 4, Batch: 6000, Loss: 0.00013292553194332868\n",
            "Training took 5.187770875295003 minutes!\n"
          ]
        }
      ]
    },
    {
      "cell_type": "code",
      "source": [
        "# Graph loss/corr at each epoch\n",
        "# train_losses = [t.cpu().detach().numpy() for t in train_losses]\n",
        "# train_correct = [t.cpu().detach().numpy() for t in train_correct] OR,\n",
        "train_losses = [tl.item() for tl in train_losses]\n",
        "plt.plot(train_losses, label='Training Loss')\n",
        "plt.plot(test_losses, label='Test Loss')\n",
        "plt.title(\"Loss at each Epoch\")\n",
        "plt.legend()\n",
        "plt.show()"
      ],
      "metadata": {
        "colab": {
          "base_uri": "https://localhost:8080/",
          "height": 452
        },
        "id": "hpGmgIFU_bt_",
        "outputId": "d47f820d-f411-4f97-cd3b-16a88d84857c"
      },
      "execution_count": 12,
      "outputs": [
        {
          "output_type": "display_data",
          "data": {
            "text/plain": [
              "<Figure size 640x480 with 1 Axes>"
            ],
            "image/png": "[encoded data removed]"
          },
          "metadata": {}
        }
      ]
    },
    {
      "cell_type": "code",
      "source": [
        "# Graph accuracy at the end of each epoch\n",
        "plt.plot([t/600 for t in train_correct], label='Training Accuracy')\n",
        "plt.plot([t/100 for t in test_correct], label='Test Accuracy')\n",
        "plt.title(\"Accuracy at end of each epoch\")\n",
        "plt.legend()\n",
        "plt.show()"
      ],
      "metadata": {
        "colab": {
          "base_uri": "https://localhost:8080/",
          "height": 452
        },
        "id": "UOTJQWfDI2tp",
        "outputId": "88208618-7668-42fb-b577-858983bb09a2"
      },
      "execution_count": 13,
      "outputs": [
        {
          "output_type": "display_data",
          "data": {
            "text/plain": [
              "<Figure size 640x480 with 1 Axes>"
            ],
            "image/png": "[encoded data removed]"
          },
          "metadata": {}
        }
      ]
    },
    {
      "cell_type": "code",
      "source": [
        "# Get the percentage of correct\n",
        "test_load_everything = DataLoader(test_data, batch_size=10000, shuffle=False)\n",
        "\n",
        "with torch.no_grad():\n",
        "  correct = 0\n",
        "  for X_test, y_test, in test_load_everything:\n",
        "    y_val = model(X_test)\n",
        "    predicted = torch.max(y_val.data, 1)[1]\n",
        "    correct += (predicted == y_test).sum()\n",
        "\n",
        "print(f'Test Accuracy: {(correct/len(y_test)) * 100} %')\n"
      ],
      "metadata": {
        "id": "_KL4VgGQSWQK",
        "colab": {
          "base_uri": "https://localhost:8080/"
        },
        "outputId": "b726f435-837e-4cc0-b7a7-fabf9d738e49"
      },
      "execution_count": 19,
      "outputs": [
        {
          "output_type": "stream",
          "name": "stdout",
          "text": [
            "Test Accuracy: 98.18000030517578 %\n"
          ]
        }
      ]
    },
    {
      "cell_type": "code",
      "source": [
        "# Grab a test image\n",
        "test_number = 3\n",
        "test_data[test_number][0]\n",
        "test_data[test_number][0].reshape(28, 28)\n",
        "plt.imshow(test_data[test_number][0].reshape(28, 28))\n",
        "test_data[test_number][1]"
      ],
      "metadata": {
        "colab": {
          "base_uri": "https://localhost:8080/",
          "height": 447
        },
        "id": "kNjYInGwiOVE",
        "outputId": "e81351ae-36e4-4f9b-bb5e-286479020874"
      },
      "execution_count": 55,
      "outputs": [
        {
          "output_type": "execute_result",
          "data": {
            "text/plain": [
              "0"
            ]
          },
          "metadata": {},
          "execution_count": 55
        },
        {
          "output_type": "display_data",
          "data": {
            "text/plain": [
              "<Figure size 640x480 with 1 Axes>"
            ],
            "image/png": "[encoded data removed]"
          },
          "metadata": {}
        }
      ]
    },
    {
      "cell_type": "code",
      "source": [
        "# Pass the image thru our model\n",
        "torch.max(model(test_data[test_number][0].view(1,1,28,28)), 1)[1]"
      ],
      "metadata": {
        "colab": {
          "base_uri": "https://localhost:8080/"
        },
        "id": "NQb0p8Bmjqrf",
        "outputId": "1c409bfd-4e2b-4411-9f0e-062feacca45e"
      },
      "execution_count": 56,
      "outputs": [
        {
          "output_type": "execute_result",
          "data": {
            "text/plain": [
              "tensor([0])"
            ]
          },
          "metadata": {},
          "execution_count": 56
        }
      ]
    },
    {
      "cell_type": "code",
      "source": [
        "# OR, Pass the image thru our model\n",
        "model.eval()\n",
        "with torch.no_grad():\n",
        "  new_pred = model(test_data[test_number][0].view(1,1,28,28))\n",
        "\n",
        "# Check new pred\n",
        "print(f'The predicted number is: {new_pred.argmax().item()}')"
      ],
      "metadata": {
        "colab": {
          "base_uri": "https://localhost:8080/"
        },
        "id": "k6iIiuVLk4KH",
        "outputId": "af12838f-b634-4d4d-fd7e-0c24c1ee1406"
      },
      "execution_count": 57,
      "outputs": [
        {
          "output_type": "stream",
          "name": "stdout",
          "text": [
            "The predicted number is: 0\n"
          ]
        }
      ]
    },
    {
      "cell_type": "code",
      "source": [],
      "metadata": {
        "id": "2fpPViFwlvTW"
      },
      "execution_count": null,
      "outputs": []
    }
  ]
}